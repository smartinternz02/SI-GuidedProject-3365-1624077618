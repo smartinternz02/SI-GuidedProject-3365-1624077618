{
 "cells": [
  {
   "cell_type": "markdown",
   "metadata": {},
   "source": [
    "# Detecting Building defects using CNN"
   ]
  },
  {
   "cell_type": "markdown",
   "metadata": {},
   "source": [
    "### Importing Neccessary Libraries"
   ]
  },
  {
   "cell_type": "code",
   "execution_count": 2,
   "metadata": {},
   "outputs": [],
   "source": [
    "import numpy as np#used for numerical analysis\n",
    "import tensorflow #open source used for both ML and DL for computation\n",
    "from tensorflow.keras.models import Sequential #it is a plain stack of layers\n",
    "from tensorflow.keras import layers #A layer consists of a tensor-in tensor-out computation function\n",
    "#Dense layer is the regular deeply connected neural network layer\n",
    "from tensorflow.keras.layers import Dense,Flatten\n",
    "#Faltten-used fot flattening the input or change the dimension\n",
    "from tensorflow.keras.layers import Conv2D,MaxPooling2D #Convolutional layer\n",
    "#MaxPooling2D-for downsampling the image\n",
    "from keras.preprocessing.image import ImageDataGenerator\n"
   ]
  },
  {
   "cell_type": "markdown",
   "metadata": {},
   "source": [
    "### Image Data Agumentation"
   ]
  },
  {
   "cell_type": "code",
   "execution_count": 3,
   "metadata": {},
   "outputs": [],
   "source": [
    "#setting parameter for Image Data agumentation to the training data\n",
    "train_datagen = ImageDataGenerator(rescale=1./255,shear_range=0.2,zoom_range=0.2,horizontal_flip=True)\n",
    "#Image Data agumentation to the testing data\n",
    "test_datagen=ImageDataGenerator(rescale=1./255)"
   ]
  },
  {
   "cell_type": "code",
   "execution_count": null,
   "metadata": {},
   "outputs": [],
   "source": []
  },
  {
   "cell_type": "markdown",
   "metadata": {},
   "source": [
    "### Loading our data and performing data agumentation"
   ]
  },
  {
   "cell_type": "code",
   "execution_count": 4,
   "metadata": {},
   "outputs": [
    {
     "name": "stdout",
     "output_type": "stream",
     "text": [
      "Found 700 images belonging to 5 classes.\n",
      "Found 300 images belonging to 5 classes.\n"
     ]
    }
   ],
   "source": [
    "#performing data agumentation to train data\n",
    "x_train = train_datagen.flow_from_directory(\n",
    "    r'C:\\Users\\botla\\Desktop\\Rock_Classification_Dataset\\Rock_Classification_Dataset\\train_set',\n",
    "    target_size=(64, 64),batch_size=5,color_mode='rgb',class_mode='categorical')\n",
    "#performing data agumentation to test data\n",
    "x_test = test_datagen.flow_from_directory(\n",
    "    r'C:\\Users\\botla\\Desktop\\Rock_Classification_Dataset\\Rock_Classification_Dataset\\test_set',\n",
    "    target_size=(64, 64),batch_size=5,color_mode='rgb',class_mode='categorical') "
   ]
  },
  {
   "cell_type": "code",
   "execution_count": 5,
   "metadata": {},
   "outputs": [
    {
     "name": "stdout",
     "output_type": "stream",
     "text": [
      "{'blue calcite': 0, 'limestone': 1, 'marble': 2, 'olivine': 3, 'red crystal': 4}\n"
     ]
    }
   ],
   "source": [
    "print(x_train.class_indices)#checking the number of classes"
   ]
  },
  {
   "cell_type": "code",
   "execution_count": 6,
   "metadata": {},
   "outputs": [
    {
     "name": "stdout",
     "output_type": "stream",
     "text": [
      "{'blue calcite': 0, 'limestone': 1, 'marble': 2, 'olivine': 3, 'red crystal': 4}\n"
     ]
    }
   ],
   "source": [
    "print(x_test.class_indices)#checking the number of classes"
   ]
  },
  {
   "cell_type": "code",
   "execution_count": 7,
   "metadata": {},
   "outputs": [
    {
     "data": {
      "text/plain": [
       "Counter({0: 140, 1: 140, 2: 140, 3: 140, 4: 140})"
      ]
     },
     "execution_count": 7,
     "metadata": {},
     "output_type": "execute_result"
    }
   ],
   "source": [
    "from collections import Counter as c\n",
    "c(x_train .labels)"
   ]
  },
  {
   "cell_type": "markdown",
   "metadata": {},
   "source": [
    "### Creating the model"
   ]
  },
  {
   "cell_type": "code",
   "execution_count": 8,
   "metadata": {},
   "outputs": [],
   "source": [
    "# Initializing the CNN\n",
    "classifier = Sequential()\n",
    "\n",
    "# First convolution layer and pooling\n",
    "classifier.add(Conv2D(32, (3, 3), input_shape=(64, 64, 3), activation='relu'))\n",
    "classifier.add(MaxPooling2D(pool_size=(2, 2)))\n",
    "# Second convolution layer and pooling\n",
    "classifier.add(Conv2D(32, (3, 3), activation='relu'))\n",
    "# input_shape is going to be the pooled feature maps from the previous convolution layer\n",
    "classifier.add(MaxPooling2D(pool_size=(2, 2)))\n",
    "\n",
    "# Flattening the layers\n",
    "classifier.add(Flatten())\n",
    "\n",
    "# Adding a fully connected layer\n",
    "classifier.add(Dense(units=128, activation='relu'))\n",
    "classifier.add(Dense(units=5, activation='softmax')) # softmax for more than 2\n",
    "\n"
   ]
  },
  {
   "cell_type": "code",
   "execution_count": 9,
   "metadata": {},
   "outputs": [
    {
     "name": "stdout",
     "output_type": "stream",
     "text": [
      "Model: \"sequential\"\n",
      "_________________________________________________________________\n",
      "Layer (type)                 Output Shape              Param #   \n",
      "=================================================================\n",
      "conv2d (Conv2D)              (None, 62, 62, 32)        896       \n",
      "_________________________________________________________________\n",
      "max_pooling2d (MaxPooling2D) (None, 31, 31, 32)        0         \n",
      "_________________________________________________________________\n",
      "conv2d_1 (Conv2D)            (None, 29, 29, 32)        9248      \n",
      "_________________________________________________________________\n",
      "max_pooling2d_1 (MaxPooling2 (None, 14, 14, 32)        0         \n",
      "_________________________________________________________________\n",
      "flatten (Flatten)            (None, 6272)              0         \n",
      "_________________________________________________________________\n",
      "dense (Dense)                (None, 128)               802944    \n",
      "_________________________________________________________________\n",
      "dense_1 (Dense)              (None, 5)                 645       \n",
      "=================================================================\n",
      "Total params: 813,733\n",
      "Trainable params: 813,733\n",
      "Non-trainable params: 0\n",
      "_________________________________________________________________\n"
     ]
    }
   ],
   "source": [
    "classifier.summary()#summary of our model"
   ]
  },
  {
   "cell_type": "markdown",
   "metadata": {},
   "source": [
    "### Compiling the model"
   ]
  },
  {
   "cell_type": "code",
   "execution_count": 10,
   "metadata": {},
   "outputs": [],
   "source": [
    "# Compiling the CNN\n",
    "# categorical_crossentropy for more than 2\n",
    "classifier.compile(optimizer='adam', loss='categorical_crossentropy', metrics=['accuracy']) "
   ]
  },
  {
   "cell_type": "markdown",
   "metadata": {},
   "source": [
    "## Fitting the model"
   ]
  },
  {
   "cell_type": "code",
   "execution_count": 11,
   "metadata": {
    "scrolled": true
   },
   "outputs": [
    {
     "name": "stderr",
     "output_type": "stream",
     "text": [
      "C:\\Users\\botla\\anaconda3\\lib\\site-packages\\tensorflow\\python\\keras\\engine\\training.py:1940: UserWarning: `Model.fit_generator` is deprecated and will be removed in a future version. Please use `Model.fit`, which supports generators.\n",
      "  warnings.warn('`Model.fit_generator` is deprecated and '\n"
     ]
    },
    {
     "name": "stdout",
     "output_type": "stream",
     "text": [
      "Epoch 1/50\n",
      "140/140 [==============================] - 23s 140ms/step - loss: 1.0574 - accuracy: 0.5157 - val_loss: 0.7788 - val_accuracy: 0.7567\n",
      "Epoch 2/50\n",
      "140/140 [==============================] - 5s 36ms/step - loss: 0.6509 - accuracy: 0.7300 - val_loss: 0.6120 - val_accuracy: 0.7733\n",
      "Epoch 3/50\n",
      "140/140 [==============================] - 5s 36ms/step - loss: 0.5463 - accuracy: 0.7543 - val_loss: 0.5421 - val_accuracy: 0.7933\n",
      "Epoch 4/50\n",
      "140/140 [==============================] - 4s 30ms/step - loss: 0.4989 - accuracy: 0.7957 - val_loss: 0.4635 - val_accuracy: 0.8433\n",
      "Epoch 5/50\n",
      "140/140 [==============================] - 5s 36ms/step - loss: 0.4709 - accuracy: 0.8043 - val_loss: 0.4407 - val_accuracy: 0.8767\n",
      "Epoch 6/50\n",
      "140/140 [==============================] - 4s 30ms/step - loss: 0.3931 - accuracy: 0.8471 - val_loss: 0.4166 - val_accuracy: 0.8600\n",
      "Epoch 7/50\n",
      "140/140 [==============================] - 5s 33ms/step - loss: 0.3958 - accuracy: 0.8357 - val_loss: 0.4287 - val_accuracy: 0.8433\n",
      "Epoch 8/50\n",
      "140/140 [==============================] - 4s 32ms/step - loss: 0.3563 - accuracy: 0.8529 - val_loss: 0.4236 - val_accuracy: 0.8633\n",
      "Epoch 9/50\n",
      "140/140 [==============================] - 5s 33ms/step - loss: 0.3518 - accuracy: 0.8671 - val_loss: 0.4208 - val_accuracy: 0.8667\n",
      "Epoch 10/50\n",
      "140/140 [==============================] - 5s 36ms/step - loss: 0.3321 - accuracy: 0.8700 - val_loss: 0.4599 - val_accuracy: 0.8367\n",
      "Epoch 11/50\n",
      "140/140 [==============================] - 5s 35ms/step - loss: 0.3378 - accuracy: 0.8614 - val_loss: 0.4903 - val_accuracy: 0.8200\n",
      "Epoch 12/50\n",
      "140/140 [==============================] - 5s 39ms/step - loss: 0.3214 - accuracy: 0.8643 - val_loss: 0.4052 - val_accuracy: 0.8767\n",
      "Epoch 13/50\n",
      "140/140 [==============================] - 5s 33ms/step - loss: 0.3126 - accuracy: 0.8600 - val_loss: 0.4248 - val_accuracy: 0.8633\n",
      "Epoch 14/50\n",
      "140/140 [==============================] - 5s 36ms/step - loss: 0.3031 - accuracy: 0.8843 - val_loss: 0.5295 - val_accuracy: 0.7967\n",
      "Epoch 15/50\n",
      "140/140 [==============================] - 5s 33ms/step - loss: 0.2752 - accuracy: 0.8800 - val_loss: 0.4404 - val_accuracy: 0.8600\n",
      "Epoch 16/50\n",
      "140/140 [==============================] - 11s 77ms/step - loss: 0.2434 - accuracy: 0.8957 - val_loss: 0.4923 - val_accuracy: 0.8367\n",
      "Epoch 17/50\n",
      "140/140 [==============================] - 9s 64ms/step - loss: 0.2129 - accuracy: 0.8957 - val_loss: 0.4898 - val_accuracy: 0.8700\n",
      "Epoch 18/50\n",
      "140/140 [==============================] - 6s 40ms/step - loss: 0.2162 - accuracy: 0.9029 - val_loss: 0.4445 - val_accuracy: 0.8867\n",
      "Epoch 19/50\n",
      "140/140 [==============================] - 5s 37ms/step - loss: 0.2975 - accuracy: 0.8814 - val_loss: 0.5148 - val_accuracy: 0.8367\n",
      "Epoch 20/50\n",
      "140/140 [==============================] - 5s 33ms/step - loss: 0.2264 - accuracy: 0.9086 - val_loss: 0.4809 - val_accuracy: 0.8400\n",
      "Epoch 21/50\n",
      "140/140 [==============================] - 5s 32ms/step - loss: 0.2381 - accuracy: 0.9043 - val_loss: 0.3815 - val_accuracy: 0.8967\n",
      "Epoch 22/50\n",
      "140/140 [==============================] - 5s 32ms/step - loss: 0.2203 - accuracy: 0.8971 - val_loss: 0.7438 - val_accuracy: 0.8400\n",
      "Epoch 23/50\n",
      "140/140 [==============================] - 5s 35ms/step - loss: 0.2371 - accuracy: 0.9029 - val_loss: 0.5075 - val_accuracy: 0.8700\n",
      "Epoch 24/50\n",
      "140/140 [==============================] - 5s 35ms/step - loss: 0.2186 - accuracy: 0.9186 - val_loss: 0.5066 - val_accuracy: 0.8733\n",
      "Epoch 25/50\n",
      "140/140 [==============================] - 5s 36ms/step - loss: 0.1792 - accuracy: 0.9186 - val_loss: 0.8964 - val_accuracy: 0.7567\n",
      "Epoch 26/50\n",
      "140/140 [==============================] - 4s 29ms/step - loss: 0.2514 - accuracy: 0.9029 - val_loss: 0.5066 - val_accuracy: 0.8733\n",
      "Epoch 27/50\n",
      "140/140 [==============================] - 4s 31ms/step - loss: 0.2306 - accuracy: 0.9114 - val_loss: 0.5365 - val_accuracy: 0.8467\n",
      "Epoch 28/50\n",
      "140/140 [==============================] - 4s 28ms/step - loss: 0.1991 - accuracy: 0.9300 - val_loss: 0.4671 - val_accuracy: 0.9033\n",
      "Epoch 29/50\n",
      "140/140 [==============================] - 4s 31ms/step - loss: 0.1715 - accuracy: 0.9214 - val_loss: 0.5155 - val_accuracy: 0.8733\n",
      "Epoch 30/50\n",
      "140/140 [==============================] - 4s 28ms/step - loss: 0.1706 - accuracy: 0.9271 - val_loss: 0.4838 - val_accuracy: 0.8633\n",
      "Epoch 31/50\n",
      "140/140 [==============================] - 4s 27ms/step - loss: 0.1497 - accuracy: 0.9414 - val_loss: 0.4948 - val_accuracy: 0.8767\n",
      "Epoch 32/50\n",
      "140/140 [==============================] - 4s 29ms/step - loss: 0.3070 - accuracy: 0.9114 - val_loss: 0.4956 - val_accuracy: 0.8767\n",
      "Epoch 33/50\n",
      "140/140 [==============================] - 4s 26ms/step - loss: 0.1806 - accuracy: 0.9271 - val_loss: 0.5041 - val_accuracy: 0.8633\n",
      "Epoch 34/50\n",
      "140/140 [==============================] - 4s 26ms/step - loss: 0.1670 - accuracy: 0.9329 - val_loss: 1.0849 - val_accuracy: 0.8000\n",
      "Epoch 35/50\n",
      "140/140 [==============================] - 4s 26ms/step - loss: 0.1884 - accuracy: 0.9271 - val_loss: 0.5891 - val_accuracy: 0.8300\n",
      "Epoch 36/50\n",
      "140/140 [==============================] - 3s 24ms/step - loss: 0.1547 - accuracy: 0.9429 - val_loss: 0.4106 - val_accuracy: 0.8900\n",
      "Epoch 37/50\n",
      "140/140 [==============================] - 3s 24ms/step - loss: 0.1657 - accuracy: 0.9243 - val_loss: 0.7249 - val_accuracy: 0.8567\n",
      "Epoch 38/50\n",
      "140/140 [==============================] - 4s 27ms/step - loss: 0.1734 - accuracy: 0.9243 - val_loss: 0.5911 - val_accuracy: 0.8833\n",
      "Epoch 39/50\n",
      "140/140 [==============================] - 4s 27ms/step - loss: 0.1973 - accuracy: 0.9386 - val_loss: 0.8030 - val_accuracy: 0.8533\n",
      "Epoch 40/50\n",
      "140/140 [==============================] - 4s 30ms/step - loss: 0.1811 - accuracy: 0.9200 - val_loss: 0.5202 - val_accuracy: 0.8867\n",
      "Epoch 41/50\n",
      "140/140 [==============================] - 4s 26ms/step - loss: 0.1215 - accuracy: 0.9443 - val_loss: 0.6990 - val_accuracy: 0.8667\n",
      "Epoch 42/50\n",
      "140/140 [==============================] - 4s 26ms/step - loss: 0.1228 - accuracy: 0.9514 - val_loss: 0.4993 - val_accuracy: 0.8833\n",
      "Epoch 43/50\n",
      "140/140 [==============================] - 4s 26ms/step - loss: 0.1281 - accuracy: 0.9457 - val_loss: 0.7923 - val_accuracy: 0.8533\n",
      "Epoch 44/50\n",
      "140/140 [==============================] - 4s 27ms/step - loss: 0.1826 - accuracy: 0.9286 - val_loss: 0.6362 - val_accuracy: 0.8467\n",
      "Epoch 45/50\n",
      "140/140 [==============================] - 4s 27ms/step - loss: 0.0986 - accuracy: 0.9586 - val_loss: 0.6983 - val_accuracy: 0.8567\n",
      "Epoch 46/50\n",
      "140/140 [==============================] - 4s 26ms/step - loss: 0.1022 - accuracy: 0.9557 - val_loss: 0.6217 - val_accuracy: 0.8833\n",
      "Epoch 47/50\n",
      "140/140 [==============================] - 4s 26ms/step - loss: 0.1008 - accuracy: 0.9600 - val_loss: 0.5867 - val_accuracy: 0.8867\n",
      "Epoch 48/50\n",
      "140/140 [==============================] - 4s 25ms/step - loss: 0.1186 - accuracy: 0.9471 - val_loss: 0.7165 - val_accuracy: 0.8733\n",
      "Epoch 49/50\n",
      "140/140 [==============================] - 4s 25ms/step - loss: 0.1672 - accuracy: 0.9329 - val_loss: 0.5935 - val_accuracy: 0.8667\n",
      "Epoch 50/50\n",
      "140/140 [==============================] - 4s 27ms/step - loss: 0.1279 - accuracy: 0.9386 - val_loss: 0.7545 - val_accuracy: 0.8500\n"
     ]
    },
    {
     "data": {
      "text/plain": [
       "<tensorflow.python.keras.callbacks.History at 0x1b0880ca970>"
      ]
     },
     "execution_count": 11,
     "metadata": {},
     "output_type": "execute_result"
    }
   ],
   "source": [
    "classifier.fit_generator(\n",
    "        generator=x_train,steps_per_epoch = len(x_train),\n",
    "        epochs=50, validation_data=x_test,validation_steps = len(x_test))# No of images in test set"
   ]
  },
  {
   "cell_type": "markdown",
   "metadata": {},
   "source": [
    "### Saving our model"
   ]
  },
  {
   "cell_type": "code",
   "execution_count": 13,
   "metadata": {},
   "outputs": [],
   "source": [
    "# Save the model\n",
    "classifier.save('rock.h5')"
   ]
  },
  {
   "cell_type": "code",
   "execution_count": 14,
   "metadata": {},
   "outputs": [],
   "source": [
    "model_json = classifier.to_json()\n",
    "with open(\"model-bw.json\", \"w\") as json_file:\n",
    "    json_file.write(model_json)"
   ]
  },
  {
   "cell_type": "code",
   "execution_count": null,
   "metadata": {},
   "outputs": [],
   "source": []
  },
  {
   "cell_type": "markdown",
   "metadata": {},
   "source": [
    "### Predicting our results"
   ]
  },
  {
   "cell_type": "code",
   "execution_count": 15,
   "metadata": {},
   "outputs": [],
   "source": [
    "from tensorflow.keras.models import load_model\n",
    "from keras.preprocessing import image\n",
    "model = load_model(\"rock.h5\") #loading the model for testing"
   ]
  },
  {
   "cell_type": "code",
   "execution_count": 16,
   "metadata": {
    "scrolled": true
   },
   "outputs": [
    {
     "name": "stderr",
     "output_type": "stream",
     "text": [
      "C:\\Users\\botla\\anaconda3\\lib\\site-packages\\tensorflow\\python\\keras\\engine\\sequential.py:455: UserWarning: `model.predict_classes()` is deprecated and will be removed after 2021-01-01. Please use instead:* `np.argmax(model.predict(x), axis=-1)`,   if your model does multi-class classification   (e.g. if it uses a `softmax` last-layer activation).* `(model.predict(x) > 0.5).astype(\"int32\")`,   if your model does binary classification   (e.g. if it uses a `sigmoid` last-layer activation).\n",
      "  warnings.warn('`model.predict_classes()` is deprecated and '\n"
     ]
    },
    {
     "data": {
      "text/plain": [
       "array([2], dtype=int64)"
      ]
     },
     "execution_count": 16,
     "metadata": {},
     "output_type": "execute_result"
    }
   ],
   "source": [
    "img = image.load_img(r\"C:\\Users\\botla\\Desktop\\Rock_Classification_Dataset\\Rock_Classification_Dataset\\train_set\\marble\\marble15.jpg\",\n",
    "                     grayscale=False,target_size= (64,64))#loading of the image\n",
    "x = image.img_to_array(img)#image to array\n",
    "x = np.expand_dims(x,axis = 0)#changing the shape\n",
    "pred = model.predict_classes(x)#predicting the classes\n",
    "pred"
   ]
  },
  {
   "cell_type": "code",
   "execution_count": 17,
   "metadata": {},
   "outputs": [
    {
     "data": {
      "text/plain": [
       "'marble'"
      ]
     },
     "execution_count": 17,
     "metadata": {},
     "output_type": "execute_result"
    }
   ],
   "source": [
    "index=['blue calcite', 'limestone', 'marble', 'olivine', 'red crystal']\n",
    "result=str(index[pred[0]])\n",
    "result"
   ]
  },
  {
   "cell_type": "code",
   "execution_count": 18,
   "metadata": {},
   "outputs": [
    {
     "name": "stdout",
     "output_type": "stream",
     "text": [
      "Collecting jupyterthemes\n",
      "  Downloading jupyterthemes-0.20.0-py2.py3-none-any.whl (7.0 MB)\n",
      "Requirement already satisfied: matplotlib>=1.4.3 in c:\\users\\botla\\anaconda3\\lib\\site-packages (from jupyterthemes) (3.3.2)\n",
      "Requirement already satisfied: jupyter-core in c:\\users\\botla\\anaconda3\\lib\\site-packages (from jupyterthemes) (4.6.3)\n",
      "Requirement already satisfied: ipython>=5.4.1 in c:\\users\\botla\\anaconda3\\lib\\site-packages (from jupyterthemes) (7.19.0)\n",
      "Collecting lesscpy>=0.11.2\n",
      "  Downloading lesscpy-0.15.0-py2.py3-none-any.whl (46 kB)\n",
      "Requirement already satisfied: notebook>=5.6.0 in c:\\users\\botla\\anaconda3\\lib\\site-packages (from jupyterthemes) (6.1.4)\n",
      "Requirement already satisfied: pillow>=6.2.0 in c:\\users\\botla\\anaconda3\\lib\\site-packages (from matplotlib>=1.4.3->jupyterthemes) (8.0.1)\n",
      "Requirement already satisfied: pyparsing!=2.0.4,!=2.1.2,!=2.1.6,>=2.0.3 in c:\\users\\botla\\anaconda3\\lib\\site-packages (from matplotlib>=1.4.3->jupyterthemes) (2.4.7)\n",
      "Requirement already satisfied: certifi>=2020.06.20 in c:\\users\\botla\\anaconda3\\lib\\site-packages (from matplotlib>=1.4.3->jupyterthemes) (2020.6.20)\n",
      "Requirement already satisfied: cycler>=0.10 in c:\\users\\botla\\anaconda3\\lib\\site-packages (from matplotlib>=1.4.3->jupyterthemes) (0.10.0)\n",
      "Requirement already satisfied: numpy>=1.15 in c:\\users\\botla\\anaconda3\\lib\\site-packages (from matplotlib>=1.4.3->jupyterthemes) (1.19.2)\n",
      "Requirement already satisfied: python-dateutil>=2.1 in c:\\users\\botla\\anaconda3\\lib\\site-packages (from matplotlib>=1.4.3->jupyterthemes) (2.8.1)\n",
      "Requirement already satisfied: kiwisolver>=1.0.1 in c:\\users\\botla\\anaconda3\\lib\\site-packages (from matplotlib>=1.4.3->jupyterthemes) (1.3.0)\n",
      "Requirement already satisfied: traitlets in c:\\users\\botla\\anaconda3\\lib\\site-packages (from jupyter-core->jupyterthemes) (5.0.5)\n",
      "Requirement already satisfied: pywin32>=1.0; sys_platform == \"win32\" in c:\\users\\botla\\anaconda3\\lib\\site-packages (from jupyter-core->jupyterthemes) (227)\n",
      "Requirement already satisfied: decorator in c:\\users\\botla\\anaconda3\\lib\\site-packages (from ipython>=5.4.1->jupyterthemes) (4.4.2)\n",
      "Requirement already satisfied: jedi>=0.10 in c:\\users\\botla\\anaconda3\\lib\\site-packages (from ipython>=5.4.1->jupyterthemes) (0.17.1)\n",
      "Requirement already satisfied: prompt-toolkit!=3.0.0,!=3.0.1,<3.1.0,>=2.0.0 in c:\\users\\botla\\anaconda3\\lib\\site-packages (from ipython>=5.4.1->jupyterthemes) (3.0.8)\n",
      "Requirement already satisfied: colorama; sys_platform == \"win32\" in c:\\users\\botla\\anaconda3\\lib\\site-packages (from ipython>=5.4.1->jupyterthemes) (0.4.4)\n",
      "Requirement already satisfied: pygments in c:\\users\\botla\\anaconda3\\lib\\site-packages (from ipython>=5.4.1->jupyterthemes) (2.7.2)\n",
      "Requirement already satisfied: setuptools>=18.5 in c:\\users\\botla\\anaconda3\\lib\\site-packages (from ipython>=5.4.1->jupyterthemes) (50.3.1.post20201107)\n",
      "Requirement already satisfied: backcall in c:\\users\\botla\\anaconda3\\lib\\site-packages (from ipython>=5.4.1->jupyterthemes) (0.2.0)\n",
      "Requirement already satisfied: pickleshare in c:\\users\\botla\\anaconda3\\lib\\site-packages (from ipython>=5.4.1->jupyterthemes) (0.7.5)\n",
      "Requirement already satisfied: six in c:\\users\\botla\\anaconda3\\lib\\site-packages (from lesscpy>=0.11.2->jupyterthemes) (1.15.0)\n",
      "Requirement already satisfied: ply in c:\\users\\botla\\anaconda3\\lib\\site-packages (from lesscpy>=0.11.2->jupyterthemes) (3.11)\n",
      "Requirement already satisfied: Send2Trash in c:\\users\\botla\\anaconda3\\lib\\site-packages (from notebook>=5.6.0->jupyterthemes) (1.5.0)\n",
      "Requirement already satisfied: ipython-genutils in c:\\users\\botla\\anaconda3\\lib\\site-packages (from notebook>=5.6.0->jupyterthemes) (0.2.0)\n",
      "Requirement already satisfied: pyzmq>=17 in c:\\users\\botla\\anaconda3\\lib\\site-packages (from notebook>=5.6.0->jupyterthemes) (19.0.2)\n",
      "Requirement already satisfied: nbformat in c:\\users\\botla\\anaconda3\\lib\\site-packages (from notebook>=5.6.0->jupyterthemes) (5.0.8)\n",
      "Requirement already satisfied: terminado>=0.8.3 in c:\\users\\botla\\anaconda3\\lib\\site-packages (from notebook>=5.6.0->jupyterthemes) (0.9.1)\n",
      "Requirement already satisfied: nbconvert in c:\\users\\botla\\anaconda3\\lib\\site-packages (from notebook>=5.6.0->jupyterthemes) (6.0.7)\n",
      "Requirement already satisfied: jupyter-client>=5.3.4 in c:\\users\\botla\\anaconda3\\lib\\site-packages (from notebook>=5.6.0->jupyterthemes) (6.1.7)\n",
      "Requirement already satisfied: jinja2 in c:\\users\\botla\\anaconda3\\lib\\site-packages (from notebook>=5.6.0->jupyterthemes) (2.11.2)\n",
      "Requirement already satisfied: prometheus-client in c:\\users\\botla\\anaconda3\\lib\\site-packages (from notebook>=5.6.0->jupyterthemes) (0.8.0)\n",
      "Requirement already satisfied: ipykernel in c:\\users\\botla\\anaconda3\\lib\\site-packages (from notebook>=5.6.0->jupyterthemes) (5.3.4)\n",
      "Requirement already satisfied: argon2-cffi in c:\\users\\botla\\anaconda3\\lib\\site-packages (from notebook>=5.6.0->jupyterthemes) (20.1.0)\n",
      "Requirement already satisfied: tornado>=5.0 in c:\\users\\botla\\anaconda3\\lib\\site-packages (from notebook>=5.6.0->jupyterthemes) (6.0.4)\n",
      "Requirement already satisfied: parso<0.8.0,>=0.7.0 in c:\\users\\botla\\anaconda3\\lib\\site-packages (from jedi>=0.10->ipython>=5.4.1->jupyterthemes) (0.7.0)\n",
      "Requirement already satisfied: wcwidth in c:\\users\\botla\\anaconda3\\lib\\site-packages (from prompt-toolkit!=3.0.0,!=3.0.1,<3.1.0,>=2.0.0->ipython>=5.4.1->jupyterthemes) (0.2.5)\n",
      "Requirement already satisfied: jsonschema!=2.5.0,>=2.4 in c:\\users\\botla\\anaconda3\\lib\\site-packages (from nbformat->notebook>=5.6.0->jupyterthemes) (3.2.0)\n",
      "Requirement already satisfied: pywinpty>=0.5 in c:\\users\\botla\\anaconda3\\lib\\site-packages (from terminado>=0.8.3->notebook>=5.6.0->jupyterthemes) (0.5.7)\n",
      "Requirement already satisfied: defusedxml in c:\\users\\botla\\anaconda3\\lib\\site-packages (from nbconvert->notebook>=5.6.0->jupyterthemes) (0.6.0)\n",
      "Requirement already satisfied: jupyterlab-pygments in c:\\users\\botla\\anaconda3\\lib\\site-packages (from nbconvert->notebook>=5.6.0->jupyterthemes) (0.1.2)\n",
      "Requirement already satisfied: bleach in c:\\users\\botla\\anaconda3\\lib\\site-packages (from nbconvert->notebook>=5.6.0->jupyterthemes) (3.2.1)\n",
      "Requirement already satisfied: pandocfilters>=1.4.1 in c:\\users\\botla\\anaconda3\\lib\\site-packages (from nbconvert->notebook>=5.6.0->jupyterthemes) (1.4.3)\n",
      "Requirement already satisfied: testpath in c:\\users\\botla\\anaconda3\\lib\\site-packages (from nbconvert->notebook>=5.6.0->jupyterthemes) (0.4.4)\n",
      "Requirement already satisfied: entrypoints>=0.2.2 in c:\\users\\botla\\anaconda3\\lib\\site-packages (from nbconvert->notebook>=5.6.0->jupyterthemes) (0.3)\n",
      "Requirement already satisfied: mistune<2,>=0.8.1 in c:\\users\\botla\\anaconda3\\lib\\site-packages (from nbconvert->notebook>=5.6.0->jupyterthemes) (0.8.4)\n",
      "Requirement already satisfied: nbclient<0.6.0,>=0.5.0 in c:\\users\\botla\\anaconda3\\lib\\site-packages (from nbconvert->notebook>=5.6.0->jupyterthemes) (0.5.1)\n",
      "Requirement already satisfied: MarkupSafe>=0.23 in c:\\users\\botla\\anaconda3\\lib\\site-packages (from jinja2->notebook>=5.6.0->jupyterthemes) (1.1.1)\n",
      "Requirement already satisfied: cffi>=1.0.0 in c:\\users\\botla\\anaconda3\\lib\\site-packages (from argon2-cffi->notebook>=5.6.0->jupyterthemes) (1.14.3)\n",
      "Requirement already satisfied: attrs>=17.4.0 in c:\\users\\botla\\anaconda3\\lib\\site-packages (from jsonschema!=2.5.0,>=2.4->nbformat->notebook>=5.6.0->jupyterthemes) (20.3.0)\n",
      "Requirement already satisfied: pyrsistent>=0.14.0 in c:\\users\\botla\\anaconda3\\lib\\site-packages (from jsonschema!=2.5.0,>=2.4->nbformat->notebook>=5.6.0->jupyterthemes) (0.17.3)\n",
      "Requirement already satisfied: webencodings in c:\\users\\botla\\anaconda3\\lib\\site-packages (from bleach->nbconvert->notebook>=5.6.0->jupyterthemes) (0.5.1)\n",
      "Requirement already satisfied: packaging in c:\\users\\botla\\anaconda3\\lib\\site-packages (from bleach->nbconvert->notebook>=5.6.0->jupyterthemes) (20.4)\n",
      "Requirement already satisfied: nest-asyncio in c:\\users\\botla\\anaconda3\\lib\\site-packages (from nbclient<0.6.0,>=0.5.0->nbconvert->notebook>=5.6.0->jupyterthemes) (1.4.2)\n",
      "Requirement already satisfied: async-generator in c:\\users\\botla\\anaconda3\\lib\\site-packages (from nbclient<0.6.0,>=0.5.0->nbconvert->notebook>=5.6.0->jupyterthemes) (1.10)\n",
      "Requirement already satisfied: pycparser in c:\\users\\botla\\anaconda3\\lib\\site-packages (from cffi>=1.0.0->argon2-cffi->notebook>=5.6.0->jupyterthemes) (2.20)\n",
      "Installing collected packages: lesscpy, jupyterthemes\n",
      "Successfully installed jupyterthemes-0.20.0 lesscpy-0.15.0\n"
     ]
    }
   ],
   "source": [
    "!pip install jupyterthemes"
   ]
  },
  {
   "cell_type": "code",
   "execution_count": 19,
   "metadata": {},
   "outputs": [],
   "source": [
    "!jt -t  monokai"
   ]
  },
  {
   "cell_type": "code",
   "execution_count": 24,
   "metadata": {},
   "outputs": [
    {
     "name": "stderr",
     "output_type": "stream",
     "text": [
      "usage: jt [-h] [-l] [-t THEME] [-f MONOFONT] [-fs MONOSIZE] [-nf NBFONT]\n",
      "          [-nfs NBFONTSIZE] [-tf TCFONT] [-tfs TCFONTSIZE] [-dfs DFFONTSIZE]\n",
      "          [-ofs OUTFONTSIZE] [-mathfs MATHFONTSIZE] [-m MARGINS]\n",
      "          [-cursw CURSORWIDTH] [-cursc CURSORCOLOR] [-cellw CELLWIDTH]\n",
      "          [-lineh LINEHEIGHT] [-altp] [-altmd] [-altout] [-P] [-T] [-N] [-kl]\n",
      "          [-vim] [-r] [-dfonts]\n",
      "jt: error: argument -t/--theme: expected one argument\n"
     ]
    }
   ],
   "source": [
    "!jt -t"
   ]
  },
  {
   "cell_type": "code",
   "execution_count": null,
   "metadata": {},
   "outputs": [],
   "source": []
  }
 ],
 "metadata": {
  "kernelspec": {
   "display_name": "Python 3",
   "language": "python",
   "name": "python3"
  },
  "language_info": {
   "codemirror_mode": {
    "name": "ipython",
    "version": 3
   },
   "file_extension": ".py",
   "mimetype": "text/x-python",
   "name": "python",
   "nbconvert_exporter": "python",
   "pygments_lexer": "ipython3",
   "version": "3.8.5"
  }
 },
 "nbformat": 4,
 "nbformat_minor": 4
}
